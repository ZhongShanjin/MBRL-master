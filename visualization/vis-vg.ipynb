{
 "cells": [
  {
   "cell_type": "code",
   "execution_count": null,
   "metadata": {
    "scrolled": true,
    "tags": []
   },
   "outputs": [],
   "source": [
    "import pickle, json, os, sys, torch, h5py\n",
    "import numpy as np\n",
    "from tqdm import tqdm\n",
    "from matplotlib.pyplot import imshow\n",
    "from PIL import Image, ImageDraw\n",
    "\n",
    "# 读取数据集\n",
    "dic_hlm = pickle.load(open(\"../tmp/motifs_test-hlm.pk\", \"rb\"))\n",
    "dic = pickle.load(open(\"../tmp/motifs_test.pk\", \"rb\"))"
   ]
  },
  {
   "cell_type": "code",
   "execution_count": null,
   "metadata": {},
   "outputs": [
    {
     "data": {
      "text/plain": [
       "(dict_keys(['image_path', 'bbox', 'size', 'labels', 'relation_tuple', 'relation_logits', 'pred_rel', 'gt_rel', 'gt_pair']),\n",
       " dict_keys(['image_path', 'bbox', 'size', 'labels', 'relation_tuple', 'relation_logits', 'pred_rel', 'gt_rel', 'gt_pair']))"
      ]
     },
     "execution_count": 3,
     "metadata": {},
     "output_type": "execute_result"
    }
   ],
   "source": [
    "dic_hlm[0].keys(), dic[0].keys()"
   ]
  },
  {
   "cell_type": "code",
   "execution_count": null,
   "metadata": {},
   "outputs": [
    {
     "data": {
      "text/plain": [
       "26446"
      ]
     },
     "execution_count": 4,
     "metadata": {},
     "output_type": "execute_result"
    }
   ],
   "source": [
    "len(dic_hlm)"
   ]
  },
  {
   "cell_type": "code",
   "execution_count": null,
   "metadata": {},
   "outputs": [],
   "source": [
    "# VG50标注\n",
    "vocab = json.load(open(\"../datasets/vg/50/VG-SGG-dicts-with-attri.json\"))"
   ]
  },
  {
   "cell_type": "code",
   "execution_count": null,
   "metadata": {},
   "outputs": [
    {
     "data": {
      "text/plain": [
       "dict_keys(['object_count', 'idx_to_label', 'predicate_to_idx', 'predicate_count', 'idx_to_predicate', 'label_to_idx', 'attribute_count', 'idx_to_attribute', 'attribute_to_idx'])"
      ]
     },
     "execution_count": 6,
     "metadata": {},
     "output_type": "execute_result"
    }
   ],
   "source": [
    "vocab.keys()"
   ]
  },
  {
   "cell_type": "code",
   "execution_count": null,
   "metadata": {},
   "outputs": [],
   "source": [
    "# 读取多少个边界框\n",
    "box_topk = 1000\n",
    "# 读取多少个关系\n",
    "rel_topk = 1000\n",
    "\n",
    "# 调整图片尺寸，>=600 && <=1000 || <=1000\n",
    "def get_size(image_size):\n",
    "    min_size = 600\n",
    "    max_size = 1000\n",
    "    w, h = image_size\n",
    "    size = min_size\n",
    "    if max_size is not None:\n",
    "        min_original_size = float(min((w, h)))\n",
    "        max_original_size = float(max((w, h)))\n",
    "        if max_original_size / min_original_size * size > max_size:\n",
    "            size = int(round(max_size * min_original_size / max_original_size))\n",
    "    if (w <= h and w == size) or (h <= w and h == size):\n",
    "        return (w, h)\n",
    "    if w < h:\n",
    "        ow = size\n",
    "        oh = int(size * h / w)\n",
    "    else:\n",
    "        oh = size\n",
    "        ow = int(size * w / h)\n",
    "    return (ow, oh)\n",
    "    \n",
    "# 绘制边界框\n",
    "def draw_single_box(pic, box, color='red', draw_info=None):\n",
    "    draw = ImageDraw.Draw(pic)\n",
    "    x1,y1,x2,y2 = int(box[0]), int(box[1]), int(box[2]), int(box[3]) # 边界框坐标\n",
    "    draw.rectangle(((x1, y1), (x2, y2)), outline=color) # 绘制边界框\n",
    "    if draw_info: # 绘制边界框名称\n",
    "        draw.rectangle(((x1, y1), (x1+50, y1+10)), fill=color)\n",
    "        info = draw_info\n",
    "        draw.text((x1, y1), info, font_size=12)\n",
    "\n",
    "def draw_image(img_path, data):\n",
    "    # 路径合并\n",
    "    img_path = os.path.join(\"../\", img_path)\n",
    "    # 调整图片尺寸\n",
    "    print(Image.open(img_path).size)\n",
    "    print(data['size'])\n",
    "#     size = get_size(data['size'])\n",
    "#     print(size)\n",
    "    pic = Image.open(img_path).resize(data['size'])\n",
    "#     pic = Image.open(img_path)\n",
    "#     boxes = np.array(data['bbox'][:box_topk])\n",
    "    boxes = np.array(data['bbox'])\n",
    "    labels = data['labels']\n",
    "    labels = [str(i)+\"-\"+vocab['idx_to_label'][str(int(x))] for i, x in enumerate(labels)]\n",
    "    \n",
    "    num_obj = boxes.shape[0]\n",
    "#     for i in range(num_obj):\n",
    "#         info = labels[i]\n",
    "#         draw_single_box(pic, boxes[i], draw_info=info)\n",
    "    for i in data['gt_pair'][:,0]:\n",
    "        info = labels[i]\n",
    "        draw_single_box(pic, boxes[i], draw_info=info)\n",
    "    for i in data['gt_pair'][:,1]:\n",
    "        info = labels[i]\n",
    "        draw_single_box(pic, boxes[i], draw_info=info)\n",
    "    \n",
    "    all_rel_pairs = data['gt_pair']\n",
    "    all_rel_labels = data['gt_rel']\n",
    "    all_rel_scores = data['pred_rel']\n",
    "    rel_pairs = []\n",
    "    rel_labels = []\n",
    "    rel_scores = []\n",
    "    na_scores = []\n",
    "    for i in range(len(all_rel_pairs)):\n",
    "#         if all_rel_pairs[i][0] < box_topk and all_rel_pairs[i][1] < box_topk:\n",
    "        rel_scores.append(str(all_rel_scores[i]) + '-' + vocab[\"idx_to_predicate\"][str(int(all_rel_scores[i]))])\n",
    "        label = '(' + labels[all_rel_pairs[i][0]] + ', ' + str(int(all_rel_labels[i])) + '-' + \\\n",
    "            vocab[\"idx_to_predicate\"][str(int(all_rel_labels[i]))] + \\\n",
    "            ', ' + labels[all_rel_pairs[i][1]] + ')'\n",
    "        rel_labels.append(label)\n",
    "\n",
    "#     rel_labels = rel_labels[:rel_topk]\n",
    "#     rel_scores = rel_scores[:rel_topk]\n",
    "    for a, b in list(zip(rel_labels, rel_scores)):\n",
    "        print(a, b)\n",
    "    \n",
    "    display(pic)\n",
    "    return None"
   ]
  },
  {
   "cell_type": "code",
   "execution_count": null,
   "metadata": {},
   "outputs": [
    {
     "data": {
      "text/plain": [
       "0.8"
      ]
     },
     "execution_count": 8,
     "metadata": {},
     "output_type": "execute_result"
    }
   ],
   "source": [
    "count_true = np.count_nonzero(np.equal(dic_hlm[0]['gt_rel'], dic_hlm[0]['pred_rel']))\n",
    "count_true / len(dic_hlm[0]['gt_rel'])"
   ]
  },
  {
   "cell_type": "code",
   "execution_count": null,
   "metadata": {},
   "outputs": [],
   "source": [
    "HEAD_IDS = np.array([8, 20, 22, 29, 30, 31, 48])\n",
    "BODY_IDS = np.array([1, 5, 6, 7, 9, 11, 16, 19, 21, 23, 25, 33, 35, 38, 40, 41, 43, 46, 47, 49, 50])\n",
    "TAIL_IDS = np.array([2, 3, 4, 10, 12, 13, 14, 15, 17, 18, 24, 26, 27, 28, 32, 34, 36, 37, 39, 42, 44, 45]) "
   ]
  },
  {
   "cell_type": "code",
   "execution_count": null,
   "metadata": {},
   "outputs": [
    {
     "data": {
      "text/plain": [
       "(0, 1)"
      ]
     },
     "execution_count": 10,
     "metadata": {},
     "output_type": "execute_result"
    }
   ],
   "source": [
    "np.isin(dic_hlm[1]['gt_rel'], TAIL_IDS).sum(), np.isin(dic_hlm[1]['gt_rel'], BODY_IDS).sum()"
   ]
  },
  {
   "cell_type": "code",
   "execution_count": null,
   "metadata": {
    "scrolled": true,
    "tags": []
   },
   "outputs": [
    {
     "data": {
      "text/plain": [
       "{'1': 'above',\n",
       " '2': 'across',\n",
       " '3': 'against',\n",
       " '4': 'along',\n",
       " '5': 'and',\n",
       " '6': 'at',\n",
       " '7': 'attached to',\n",
       " '8': 'behind',\n",
       " '9': 'belonging to',\n",
       " '10': 'between',\n",
       " '11': 'carrying',\n",
       " '12': 'covered in',\n",
       " '13': 'covering',\n",
       " '14': 'eating',\n",
       " '15': 'flying in',\n",
       " '16': 'for',\n",
       " '17': 'from',\n",
       " '18': 'growing on',\n",
       " '19': 'hanging from',\n",
       " '20': 'has',\n",
       " '21': 'holding',\n",
       " '22': 'in',\n",
       " '23': 'in front of',\n",
       " '24': 'laying on',\n",
       " '25': 'looking at',\n",
       " '26': 'lying on',\n",
       " '27': 'made of',\n",
       " '28': 'mounted on',\n",
       " '29': 'near',\n",
       " '30': 'of',\n",
       " '31': 'on',\n",
       " '32': 'on back of',\n",
       " '33': 'over',\n",
       " '34': 'painted on',\n",
       " '35': 'parked on',\n",
       " '36': 'part of',\n",
       " '37': 'playing',\n",
       " '38': 'riding',\n",
       " '39': 'says',\n",
       " '40': 'sitting on',\n",
       " '41': 'standing on',\n",
       " '42': 'to',\n",
       " '43': 'under',\n",
       " '44': 'using',\n",
       " '45': 'walking in',\n",
       " '46': 'walking on',\n",
       " '47': 'watching',\n",
       " '48': 'wearing',\n",
       " '49': 'wears',\n",
       " '50': 'with'}"
      ]
     },
     "execution_count": 11,
     "metadata": {},
     "output_type": "execute_result"
    }
   ],
   "source": [
    "vocab['idx_to_predicate']"
   ]
  },
  {
   "cell_type": "code",
   "execution_count": null,
   "metadata": {},
   "outputs": [],
   "source": [
    "more_ids = np.array([2,3,4,5,10,11,12,13,14,15,16,17,18,19,23,24,26,27,28,32,33,34,35,36,37,38,39,41,42,44,45,46]) "
   ]
  },
  {
   "cell_type": "code",
   "execution_count": null,
   "metadata": {
    "scrolled": true,
    "tags": []
   },
   "outputs": [
    {
     "data": {
      "text/plain": [
       "array([24000, 24001, 24002, 24003, 24004, 24005, 24006, 24007, 24008,\n",
       "       24009, 24010, 24011, 24012, 24013, 24014, 24015, 24016, 24017,\n",
       "       24018, 24019, 24020, 24021, 24022, 24023, 24024, 24025, 24026,\n",
       "       24027, 24028, 24029, 24030, 24031, 24032, 24033, 24034, 24035,\n",
       "       24036, 24037, 24038, 24039, 24040, 24041, 24042, 24043, 24044,\n",
       "       24045, 24046, 24047, 24048, 24049, 24050, 24051, 24052, 24053,\n",
       "       24054, 24055, 24056, 24057, 24058, 24059, 24060, 24061, 24062,\n",
       "       24063, 24064, 24065, 24066, 24067, 24068, 24069, 24070, 24071,\n",
       "       24072, 24073, 24074, 24075, 24076, 24077, 24078, 24079, 24080,\n",
       "       24081, 24082, 24083, 24084, 24085, 24086, 24087, 24088, 24089,\n",
       "       24090, 24091, 24092, 24093, 24094, 24095, 24096, 24097, 24098,\n",
       "       24099, 24100, 24101, 24102, 24103, 24104, 24105, 24106, 24107,\n",
       "       24108, 24109, 24110, 24111, 24112, 24113, 24114, 24115, 24116,\n",
       "       24117, 24118, 24119, 24120, 24121, 24122, 24123, 24124, 24125,\n",
       "       24126, 24127, 24128, 24129, 24130, 24131, 24132, 24133, 24134,\n",
       "       24135, 24136, 24137, 24138, 24139, 24140, 24141, 24142, 24143,\n",
       "       24144, 24145, 24146, 24147, 24148, 24149, 24150, 24151, 24152,\n",
       "       24153, 24154, 24155, 24156, 24157, 24158, 24159, 24160, 24161,\n",
       "       24162, 24163, 24164, 24165, 24166, 24167, 24168, 24169, 24170,\n",
       "       24171, 24172, 24173, 24174, 24175, 24176, 24177, 24178, 24179,\n",
       "       24180, 24181, 24182, 24183, 24184, 24185, 24186, 24187, 24188,\n",
       "       24189, 24190, 24191, 24192, 24193, 24194, 24195, 24196, 24197,\n",
       "       24198, 24199, 24200, 24201, 24202, 24203, 24204, 24205, 24206,\n",
       "       24207, 24208, 24209, 24210, 24211, 24212, 24213, 24214, 24215,\n",
       "       24216, 24217, 24218, 24219, 24220, 24221, 24222, 24223, 24224,\n",
       "       24225, 24226, 24227, 24228, 24229, 24230, 24231, 24232, 24233,\n",
       "       24234, 24235, 24236, 24237, 24238, 24239, 24240, 24241, 24242,\n",
       "       24243, 24244, 24245, 24246, 24247, 24248, 24249, 24250, 24251,\n",
       "       24252, 24253, 24254, 24255, 24256, 24257, 24258, 24259, 24260,\n",
       "       24261, 24262, 24263, 24264, 24265, 24266, 24267, 24268, 24269,\n",
       "       24270, 24271, 24272, 24273, 24274, 24275, 24276, 24277, 24278,\n",
       "       24279, 24280, 24281, 24282, 24283, 24284, 24285, 24286, 24287,\n",
       "       24288, 24289, 24290, 24291, 24292, 24293, 24294, 24295, 24296,\n",
       "       24297, 24298, 24299, 24300, 24301, 24302, 24303, 24304, 24305,\n",
       "       24306, 24307, 24308, 24309, 24310, 24311, 24312, 24313, 24314,\n",
       "       24315, 24316, 24317, 24318, 24319, 24320, 24321, 24322, 24323,\n",
       "       24324, 24325, 24326, 24327, 24328, 24329, 24330, 24331, 24332,\n",
       "       24333, 24334, 24335, 24336, 24337, 24338, 24339, 24340, 24341,\n",
       "       24342, 24343, 24344, 24345, 24346, 24347, 24348, 24349, 24350,\n",
       "       24351, 24352, 24353, 24354, 24355, 24356, 24357, 24358, 24359,\n",
       "       24360, 24361, 24362, 24363, 24364, 24365, 24366, 24367, 24368,\n",
       "       24369, 24370, 24371, 24372, 24373, 24374, 24375, 24376, 24377,\n",
       "       24378, 24379, 24380, 24381, 24382, 24383, 24384, 24385, 24386,\n",
       "       24387, 24388, 24389, 24390, 24391, 24392, 24393, 24394, 24395,\n",
       "       24396, 24397, 24398, 24399, 24400, 24401, 24402, 24403, 24404,\n",
       "       24405, 24406, 24407, 24408, 24409, 24410, 24411, 24412, 24413,\n",
       "       24414, 24415, 24416, 24417, 24418, 24419, 24420, 24421, 24422,\n",
       "       24423, 24424, 24425, 24426, 24427, 24428, 24429, 24430, 24431,\n",
       "       24432, 24433, 24434, 24435, 24436, 24437, 24438, 24439, 24440,\n",
       "       24441, 24442, 24443, 24444, 24445, 24446, 24447, 24448, 24449,\n",
       "       24450, 24451, 24452, 24453, 24454, 24455, 24456, 24457, 24458,\n",
       "       24459, 24460, 24461, 24462, 24463, 24464, 24465, 24466, 24467,\n",
       "       24468, 24469, 24470, 24471, 24472, 24473, 24474, 24475, 24476,\n",
       "       24477, 24478, 24479, 24480, 24481, 24482, 24483, 24484, 24485,\n",
       "       24486, 24487, 24488, 24489, 24490, 24491, 24492, 24493, 24494,\n",
       "       24495, 24496, 24497, 24498, 24499])"
      ]
     },
     "execution_count": 15,
     "metadata": {},
     "output_type": "execute_result"
    }
   ],
   "source": [
    "# arr = np.arange(0,26446)\n",
    "arr = np.arange(24000,26446)\n",
    "arr"
   ]
  },
  {
   "cell_type": "code",
   "execution_count": null,
   "metadata": {
    "tags": []
   },
   "outputs": [],
   "source": [
    "for i in tqdm(arr):\n",
    "    count_true = np.count_nonzero(np.equal(dic_hlm[i]['gt_rel'], dic_hlm[i]['pred_rel']))\n",
    "    count_p = count_true / len(dic_hlm[i]['gt_rel'])\n",
    "    gtin = np.isin(dic_hlm[i]['gt_rel'], more_ids).sum()\n",
    "    predin = np.isin(dic_hlm[i]['pred_rel'], more_ids).sum()\n",
    "    if (count_p >= 1 and len(dic_hlm[i]['gt_rel'])>= 4):\n",
    "        if (gtin and predin): \n",
    "            print(i)\n",
    "            draw_image(dic_hlm[i]['image_path'], dic_hlm[i])\n",
    "            draw_image(dic[i]['image_path'], dic[i])"
   ]
  },
  {
   "cell_type": "code",
   "execution_count": null,
   "metadata": {},
   "outputs": [],
   "source": [
    " idxs = [98,288,558,1772,2019,3569,4945,7945,9261,9281,9377,9975,10738,14128,16895,18879,25085]\n",
    "for idx in idxs:\n",
    "    count_true = np.count_nonzero(np.equal(dic_hlm[idx]['gt_rel'], dic_hlm[idx]['pred_rel']))\n",
    "    count_p = count_true / len(dic_hlm[idx]['gt_rel'])\n",
    "    if count_p>=1:\n",
    "        print(idx)\n",
    "        draw_image(dic_hlm[idx]['image_path'], dic_hlm[idx])\n",
    "        draw_image(dic[idx]['image_path'], dic[idx])"
   ]
  },
  {
   "cell_type": "code",
   "execution_count": null,
   "metadata": {},
   "outputs": [],
   "source": []
  }
 ],
 "metadata": {
  "kernelspec": {
   "display_name": "Python 3 (ipykernel)",
   "language": "python",
   "name": "python3"
  },
  "language_info": {
   "codemirror_mode": {
    "name": "ipython",
    "version": 3
   },
   "file_extension": ".py",
   "mimetype": "text/x-python",
   "name": "python",
   "nbconvert_exporter": "python",
   "pygments_lexer": "ipython3",
   "version": "3.8.10"
  }
 },
 "nbformat": 4,
 "nbformat_minor": 4
}
